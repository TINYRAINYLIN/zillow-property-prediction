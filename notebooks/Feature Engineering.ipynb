{
 "cells": [
  {
   "cell_type": "markdown",
   "id": "7f7d2f21",
   "metadata": {},
   "source": [
    "### Zillow Property Value Prediction — Phase 2: Feature Engineering\n"
   ]
  },
  {
   "cell_type": "code",
   "execution_count": 22,
   "id": "2fb5a933",
   "metadata": {},
   "outputs": [],
   "source": [
    "import pandas as pd\n",
    "import numpy as np\n",
    "from sklearn.model_selection import train_test_split\n",
    "from sklearn.linear_model import LinearRegression\n",
    "from sklearn.metrics import r2_score, mean_absolute_error, mean_squared_error\n",
    "import os\n",
    "import matplotlib.pyplot as plt"
   ]
  },
  {
   "cell_type": "markdown",
   "id": "e3621d02",
   "metadata": {},
   "source": [
    "### **1. Load Clean Dataset**"
   ]
  },
  {
   "cell_type": "code",
   "execution_count": 9,
   "id": "d90ee964",
   "metadata": {},
   "outputs": [
    {
     "name": "stdout",
     "output_type": "stream",
     "text": [
      "Shape: (76723, 26)\n",
      "<class 'pandas.core.frame.DataFrame'>\n",
      "RangeIndex: 76723 entries, 0 to 76722\n",
      "Data columns (total 26 columns):\n",
      " #   Column                        Non-Null Count  Dtype  \n",
      "---  ------                        --------------  -----  \n",
      " 0   airconditioningtypeid         76723 non-null  float64\n",
      " 1   bathroomcnt                   76723 non-null  float64\n",
      " 2   bedroomcnt                    76723 non-null  float64\n",
      " 3   buildingqualitytypeid         76723 non-null  float64\n",
      " 4   calculatedfinishedsquarefeet  76723 non-null  float64\n",
      " 5   fips                          76723 non-null  float64\n",
      " 6   fireplacecnt                  76723 non-null  float64\n",
      " 7   garagecarcnt                  76723 non-null  float64\n",
      " 8   garagetotalsqft               76723 non-null  float64\n",
      " 9   heatingorsystemtypeid         76723 non-null  float64\n",
      " 10  latitude                      76723 non-null  float64\n",
      " 11  longitude                     76723 non-null  float64\n",
      " 12  lotsizesquarefeet             76723 non-null  float64\n",
      " 13  poolcnt                       76723 non-null  float64\n",
      " 14  propertycountylandusecode     76723 non-null  object \n",
      " 15  propertylandusetypeid         76723 non-null  float64\n",
      " 16  propertyzoningdesc            76723 non-null  object \n",
      " 17  regionidcity                  76723 non-null  float64\n",
      " 18  regionidcounty                76723 non-null  float64\n",
      " 19  regionidneighborhood          76723 non-null  float64\n",
      " 20  regionidzip                   76723 non-null  float64\n",
      " 21  roomcnt                       76723 non-null  float64\n",
      " 22  unitcnt                       76723 non-null  float64\n",
      " 23  yearbuilt                     76723 non-null  float64\n",
      " 24  numberofstories               76723 non-null  float64\n",
      " 25  taxvaluedollarcnt             76723 non-null  float64\n",
      "dtypes: float64(24), object(2)\n",
      "memory usage: 15.2+ MB\n",
      "None\n",
      "                                count          mean            std  \\\n",
      "airconditioningtypeid         76723.0  1.263728e+00       1.732313   \n",
      "bathroomcnt                   76723.0  2.319898e+00       0.978786   \n",
      "bedroomcnt                    76723.0  3.086610e+00       1.100947   \n",
      "buildingqualitytypeid         76723.0  6.344629e+00       1.406685   \n",
      "calculatedfinishedsquarefeet  76723.0  1.783819e+03     940.945114   \n",
      "fips                          76723.0  6.048734e+03      20.680000   \n",
      "fireplacecnt                  76723.0  1.020463e+00       0.170941   \n",
      "garagecarcnt                  76723.0  1.942703e+00       0.339137   \n",
      "garagetotalsqft               76723.0  4.083518e+02     155.028435   \n",
      "heatingorsystemtypeid         76723.0  3.237817e+00       3.030516   \n",
      "latitude                      76723.0  3.400918e+07  265322.154511   \n",
      "longitude                     76723.0 -1.182032e+08  358473.685612   \n",
      "lotsizesquarefeet             76723.0  2.388231e+04   61882.803773   \n",
      "poolcnt                       76723.0  1.000000e+00       0.000000   \n",
      "propertylandusetypeid         76723.0  2.619159e+02       3.900958   \n",
      "regionidcity                  76723.0  3.352747e+04   46834.658037   \n",
      "regionidcounty                76723.0  2.537273e+03     800.649349   \n",
      "regionidneighborhood          76723.0  1.460493e+05  109498.405223   \n",
      "regionidzip                   76723.0  9.658652e+04    3813.125267   \n",
      "roomcnt                       76723.0  1.491183e+00       2.833921   \n",
      "unitcnt                       76723.0  1.061155e+00       0.344305   \n",
      "yearbuilt                     76723.0  1.968686e+03      23.747020   \n",
      "numberofstories               76723.0  1.097181e+00       0.315221   \n",
      "taxvaluedollarcnt             76723.0  4.885927e+05  647891.498394   \n",
      "\n",
      "                                      min          25%          50%  \\\n",
      "airconditioningtypeid                 1.0          1.0          1.0   \n",
      "bathroomcnt                           1.0          2.0          2.0   \n",
      "bedroomcnt                            1.0          2.0          3.0   \n",
      "buildingqualitytypeid                 1.0          6.0          6.0   \n",
      "calculatedfinishedsquarefeet        152.0       1184.0       1542.0   \n",
      "fips                               6037.0       6037.0       6037.0   \n",
      "fireplacecnt                          1.0          1.0          1.0   \n",
      "garagecarcnt                          0.0          2.0          2.0   \n",
      "garagetotalsqft                       0.0        436.0        436.0   \n",
      "heatingorsystemtypeid                 1.0          2.0          2.0   \n",
      "latitude                       33339527.0   33815736.0   34022523.0   \n",
      "longitude                    -119475416.0 -118415439.5 -118180367.0   \n",
      "lotsizesquarefeet                   236.0       5947.0       7206.0   \n",
      "poolcnt                               1.0          1.0          1.0   \n",
      "propertylandusetypeid               246.0        261.0        261.0   \n",
      "regionidcity                       3491.0      12447.0      25218.0   \n",
      "regionidcounty                     1286.0       1286.0       3101.0   \n",
      "regionidneighborhood               6952.0     118849.0     118849.0   \n",
      "regionidzip                       95982.0      96193.0      96389.0   \n",
      "roomcnt                               0.0          0.0          0.0   \n",
      "unitcnt                               1.0          1.0          1.0   \n",
      "yearbuilt                          1824.0       1953.0       1970.0   \n",
      "numberofstories                       1.0          1.0          1.0   \n",
      "taxvaluedollarcnt                  1000.0     207073.5     358968.0   \n",
      "\n",
      "                                      75%           max  \n",
      "airconditioningtypeid                 1.0  1.300000e+01  \n",
      "bathroomcnt                           3.0  1.800000e+01  \n",
      "bedroomcnt                            4.0  1.600000e+01  \n",
      "buildingqualitytypeid                 7.0  1.200000e+01  \n",
      "calculatedfinishedsquarefeet       2109.0  2.192900e+04  \n",
      "fips                               6059.0  6.111000e+03  \n",
      "fireplacecnt                          1.0  5.000000e+00  \n",
      "garagecarcnt                          2.0  1.400000e+01  \n",
      "garagetotalsqft                     436.0  4.251000e+03  \n",
      "heatingorsystemtypeid                 2.0  2.400000e+01  \n",
      "latitude                       34174819.5  3.481877e+07  \n",
      "longitude                    -117928980.5 -1.175546e+08  \n",
      "lotsizesquarefeet                 10490.5  4.437693e+05  \n",
      "poolcnt                               1.0  1.000000e+00  \n",
      "propertylandusetypeid               266.0  2.750000e+02  \n",
      "regionidcity                      45398.0  3.965560e+05  \n",
      "regionidcounty                     3101.0  3.101000e+03  \n",
      "regionidneighborhood             118849.0  7.641670e+05  \n",
      "regionidzip                       96985.0  3.996750e+05  \n",
      "roomcnt                               0.0  1.500000e+01  \n",
      "unitcnt                               1.0  6.000000e+00  \n",
      "yearbuilt                          1987.0  2.016000e+03  \n",
      "numberofstories                       1.0  6.000000e+00  \n",
      "taxvaluedollarcnt                568508.0  4.906124e+07  \n"
     ]
    }
   ],
   "source": [
    "df = pd.read_csv(\"../data/processed/zillow_cleaned.csv\")\n",
    "\n",
    "print(\"Shape:\", df.shape)\n",
    "print(df.info())\n",
    "print(df.describe().T)"
   ]
  },
  {
   "cell_type": "markdown",
   "id": "d3599327",
   "metadata": {},
   "source": [
    "### **2. Domain-Driven Features**"
   ]
  },
  {
   "cell_type": "markdown",
   "id": "7bbfd6dd",
   "metadata": {},
   "source": [
    "##### Prices per Square Foot, Age of Home, Bath per Bed"
   ]
  },
  {
   "cell_type": "code",
   "execution_count": 10,
   "id": "9b715415",
   "metadata": {},
   "outputs": [],
   "source": [
    "df['price_per_sqft'] = df['taxvaluedollarcnt'] / df['calculatedfinishedsquarefeet']\n",
    "df[\"age_of_home\"] = 2025 - df[\"yearbuilt\"]\n",
    "df[\"bath_per_bed\"] = df[\"bathroomcnt\"] / df[\"bedroomcnt\"]\n"
   ]
  },
  {
   "cell_type": "markdown",
   "id": "613d5fcf",
   "metadata": {},
   "source": [
    "##### Rooms per Square Foot\n"
   ]
  },
  {
   "cell_type": "code",
   "execution_count": 11,
   "id": "153d02c5",
   "metadata": {},
   "outputs": [
    {
     "name": "stdout",
     "output_type": "stream",
     "text": [
      "Rows with rooms_per_sqft = 0: 59131\n",
      "roomcnt\n",
      "0.0     59131\n",
      "1.0         1\n",
      "2.0         9\n",
      "3.0       212\n",
      "4.0      1422\n",
      "5.0      3022\n",
      "6.0      4519\n",
      "7.0      3842\n",
      "8.0      2872\n",
      "9.0      1194\n",
      "10.0      340\n",
      "11.0      108\n",
      "12.0       34\n",
      "13.0       10\n",
      "14.0        6\n",
      "15.0        1\n",
      "Name: count, dtype: int64\n",
      "bathroomcnt\n",
      "1.0     12739\n",
      "1.5      1419\n",
      "2.0     31537\n",
      "2.5      6606\n",
      "3.0     17346\n",
      "3.5      1036\n",
      "4.0      3353\n",
      "4.5       696\n",
      "5.0      1025\n",
      "5.5       224\n",
      "6.0       419\n",
      "6.5        47\n",
      "7.0       114\n",
      "7.5        16\n",
      "8.0       108\n",
      "8.5         3\n",
      "9.0        23\n",
      "10.0        7\n",
      "11.0        3\n",
      "13.0        1\n",
      "18.0        1\n",
      "Name: count, dtype: int64\n",
      "bedroomcnt\n",
      "1.0      3387\n",
      "2.0     19221\n",
      "3.0     30428\n",
      "4.0     17546\n",
      "5.0      4550\n",
      "6.0      1000\n",
      "7.0       208\n",
      "8.0       253\n",
      "9.0        70\n",
      "10.0       31\n",
      "11.0        9\n",
      "12.0       16\n",
      "13.0        2\n",
      "14.0        1\n",
      "16.0        1\n",
      "Name: count, dtype: int64\n"
     ]
    }
   ],
   "source": [
    "df[\"rooms_per_sqft\"] = df[\"roomcnt\"] / (df[\"calculatedfinishedsquarefeet\"] + 1e-5)\n",
    "\n",
    "# Count how many rows have rooms_per_sqft = 0\n",
    "zero_count = (df[\"rooms_per_sqft\"] == 0).sum()\n",
    "total_rows = len(df)\n",
    "print(f\"Rows with rooms_per_sqft = 0: {zero_count}\")\n",
    "\n",
    "# Check unique values and their counts\n",
    "print(df[\"roomcnt\"].value_counts().sort_index())\n",
    "print(df[\"bathroomcnt\"].value_counts().sort_index())\n",
    "print(df[\"bedroomcnt\"].value_counts().sort_index())\n"
   ]
  },
  {
   "cell_type": "code",
   "execution_count": 12,
   "id": "f7030fcf",
   "metadata": {},
   "outputs": [],
   "source": [
    "df[\"roomcnt_fixed\"] = np.where(\n",
    "    df[\"roomcnt\"] > 0,\n",
    "    df[\"roomcnt\"], \n",
    "    df[\"bedroomcnt\"] + df[\"bathroomcnt\"] + 1)\n",
    "\n",
    "df[\"rooms_per_sqft\"] = df[\"roomcnt_fixed\"] / (df[\"calculatedfinishedsquarefeet\"] + 1e-5)\n",
    "\n",
    "df = df.drop(columns=[\"roomcnt\"])"
   ]
  },
  {
   "cell_type": "markdown",
   "id": "5191786d",
   "metadata": {},
   "source": [
    "Room Count vs Bedrooms/Bathrooms\n",
    "\n",
    "- `roomcnt` has 77% zeros → unrealistic for properties.  \n",
    "- `bedroomcnt` and `bathroomcnt` are valid (≥0).  \n",
    "- For rows where `roomcnt > 0`, it is always ≥ bedrooms + bathrooms, which makes sense since room count includes kitchens, living rooms, etc.  \n",
    "- Therefore, I reconstructed a new `roomcnt_fixed` feature for roomcnt = 0 with bathroom + bedrooms + 1 (kitchen/other)\n"
   ]
  },
  {
   "cell_type": "markdown",
   "id": "95d1ee3f",
   "metadata": {},
   "source": [
    "##### Garage Total Square Foot"
   ]
  },
  {
   "cell_type": "code",
   "execution_count": 13,
   "id": "7ac7fac7",
   "metadata": {},
   "outputs": [
    {
     "name": "stdout",
     "output_type": "stream",
     "text": [
      "garagetotalsqft\n",
      "0.0       7530\n",
      "136.0        1\n",
      "144.0        1\n",
      "150.0        2\n",
      "152.0        2\n",
      "          ... \n",
      "2901.0       1\n",
      "3115.0       1\n",
      "3233.0       1\n",
      "3791.0       1\n",
      "4251.0       1\n",
      "Name: count, Length: 838, dtype: int64\n",
      "garagecarcnt\n",
      "0.0        79\n",
      "1.0      5672\n",
      "2.0     70013\n",
      "3.0       631\n",
      "4.0       255\n",
      "5.0        45\n",
      "6.0        14\n",
      "7.0         4\n",
      "8.0         2\n",
      "9.0         2\n",
      "10.0        3\n",
      "11.0        1\n",
      "13.0        1\n",
      "14.0        1\n",
      "Name: count, dtype: int64\n",
      "Rows with sqft=0 but cars>0: 7451\n"
     ]
    }
   ],
   "source": [
    "print(df[\"garagetotalsqft\"].value_counts().sort_index())\n",
    "print(df[\"garagecarcnt\"].value_counts().sort_index())\n",
    "\n",
    "inconsistent = df[(df[\"garagetotalsqft\"] == 0) & (df[\"garagecarcnt\"] > 0)]\n",
    "print(\"Rows with sqft=0 but cars>0:\", inconsistent.shape[0])\n",
    "\n"
   ]
  },
  {
   "cell_type": "code",
   "execution_count": 14,
   "id": "75668ad4",
   "metadata": {},
   "outputs": [
    {
     "name": "stdout",
     "output_type": "stream",
     "text": [
      "Remaining missing values in garagetotalsqft: 0\n"
     ]
    }
   ],
   "source": [
    "# Case 1: Keep rows where both are 0 (real no garage)\n",
    "# Case 2: Set sqft=0 to NaN if cars > 0\n",
    "df.loc[(df[\"garagetotalsqft\"] == 0) & (df[\"garagecarcnt\"] > 0), \"garagetotalsqft\"] = np.nan\n",
    "\n",
    "# Impute missing garage sqft by median for each car count\n",
    "df[\"garagetotalsqft\"] = df.groupby(\"garagecarcnt\")[\"garagetotalsqft\"]\\\n",
    "                          .transform(lambda x: x.fillna(x.median()))\n",
    "\n",
    "print(\"Remaining missing values in garagetotalsqft:\", df[\"garagetotalsqft\"].isna().sum())\n",
    "\n",
    "df[\"garage_sqft_ratio\"] = df[\"garagetotalsqft\"] / df[\"calculatedfinishedsquarefeet\"]"
   ]
  },
  {
   "cell_type": "markdown",
   "id": "0661d3f9",
   "metadata": {},
   "source": [
    "Inconsistencies between `garagecarcnt` and `garagetotalsqft`: \n",
    "- **7,530 rows** had `garagetotalsqft = 0`.\n",
    "- Of these, **7,451 rows also had `garagecarcnt > 0`**, which is unrealistic (a garage for cars cannot have 0 square feet).\n",
    "- This indicates that many zeros in `garagetotalsqft` are **missing values** recorded as `0`, not true \"no garage\" cases.\n",
    "\n",
    "Cleaning Strategy:\n",
    "\n",
    "1. If both `garagecarcnt = 0` and `garagetotalsqft = 0` → kept as valid \"no garage\".\n",
    "2. If `garagecarcnt > 0` but `garagetotalsqft = 0` → treated as missing.\n",
    "3. Imputed missing `garagetotalsqft` using the **median garage size for each `garagecarcnt` group**  \n",
    "   (e.g., ~200 sqft for 1-car garages, ~400 sqft for 2-car garages, etc.)."
   ]
  },
  {
   "cell_type": "markdown",
   "id": "b3d37988",
   "metadata": {},
   "source": [
    "### **3. Encoding Categorical Features**"
   ]
  },
  {
   "cell_type": "code",
   "execution_count": 15,
   "id": "88c4670f",
   "metadata": {},
   "outputs": [],
   "source": [
    "# 1. unitcnt → binary flag\n",
    "df[\"multi_unit\"] = (df[\"unitcnt\"] > 1).astype(int)\n",
    "\n",
    "# 2. OHE low-cardinality categorical features\n",
    "low_card = [\"airconditioningtypeid\",\"heatingorsystemtypeid\",\"fips\",\"regionidcounty\"]\n",
    "df = pd.get_dummies(df, columns=low_card, drop_first=True)\n",
    "\n",
    "# 3. propertycountylandusecode → Top-K\n",
    "top_landuse = df[\"propertycountylandusecode\"].value_counts().nlargest(15).index\n",
    "df[\"propertycountylanduse_top\"] = np.where(df[\"propertycountylandusecode\"].isin(top_landuse),\n",
    "                                           df[\"propertycountylandusecode\"], \"other\")\n",
    "df = pd.get_dummies(df, columns=[\"propertycountylanduse_top\"], drop_first=True)\n",
    "\n",
    "# 4. propertylandusetypeid → Top-K\n",
    "top_landusetype = df[\"propertylandusetypeid\"].value_counts().nlargest(5).index\n",
    "df[\"propertylandusetype_top\"] = np.where(df[\"propertylandusetypeid\"].isin(top_landusetype),\n",
    "                                         df[\"propertylandusetypeid\"], \"other\")\n",
    "df = pd.get_dummies(df, columns=[\"propertylandusetype_top\"], drop_first=True)\n",
    "\n",
    "# 5. regionidcity / regionidzip / regionidneighborhood → Top-K\n",
    "for col, k in [(\"regionidcity\", 50),(\"regionidzip\", 50),(\"regionidneighborhood\", 50)]:\n",
    "    top_vals = df[col].value_counts().nlargest(k).index\n",
    "    df[col+\"_top\"] = np.where(df[col].isin(top_vals), df[col], -1)\n",
    "    df = pd.get_dummies(df, columns=[col+\"_top\"], drop_first=True)\n",
    "\n",
    "# 6. Drop super messy zoning if you want (or keep top categories only)\n",
    "df1 = df.drop(columns=[\"propertyzoningdesc\"])\n"
   ]
  },
  {
   "cell_type": "code",
   "execution_count": 16,
   "id": "ac38fd26",
   "metadata": {},
   "outputs": [],
   "source": [
    "# Add garage presence flag\n",
    "df1[\"has_garage\"] = ((df1[\"garagecarcnt\"].fillna(0) > 0) | \n",
    "                     (df1[\"garagetotalsqft\"].fillna(0) > 0)).astype(int)"
   ]
  },
  {
   "cell_type": "code",
   "execution_count": 17,
   "id": "ed721487",
   "metadata": {},
   "outputs": [
    {
     "name": "stdout",
     "output_type": "stream",
     "text": [
      "county: 18 columns\n",
      "zip: 51 columns\n",
      "city: 51 columns\n",
      "neighborhood: 51 columns\n",
      "propertycountylanduse: 16 columns\n",
      "propertylandusetype: 6 columns\n"
     ]
    }
   ],
   "source": [
    "# Check for encoded col names\n",
    "for keyword in [\"county\", \"zip\", \"city\", \"neighborhood\", \n",
    "                \"propertycountylanduse\", \"propertylandusetype\"]:\n",
    "    cols = [c for c in df1.columns if keyword in c]\n",
    "    print(f\"{keyword}: {len(cols)} columns\")\n"
   ]
  },
  {
   "cell_type": "markdown",
   "id": "28459139",
   "metadata": {},
   "source": [
    "- **Low-cardinality categorical features**  \n",
    "  - `airconditioningtypeid`, `heatingorsystemtypeid`, `fips`, `regionidcounty` → one-hot encoded.  \n",
    "- **Ordinal feature**  \n",
    "  - `buildingqualitytypeid` retained as numeric (ordinal scale 1–12).  \n",
    "- **Unit count**  \n",
    "  - Converted `unitcnt` into binary flag `multi_unit` (1 = multi-unit, 0 = single-unit).  \n",
    "- **Land use**  \n",
    "  - `propertycountylandusecode` → encoded with Top-15 most frequent categories, others grouped as `\"other\"`.  \n",
    "  - `propertylandusetypeid` → encoded with Top-5 most frequent categories, others grouped as `\"other\"`.  \n",
    "- **High-cardinality location features**  \n",
    "  - `regionidzip` → Top-50 ZIPs, rest grouped as `\"other\"`.  \n",
    "  - `regionidcity` → Top-50 cities, rest grouped as `\"other\"`.  \n",
    "  - `regionidneighborhood` → Top-50 neighborhoods, rest grouped as `\"other\"`.  \n",
    "- **Property zoning**  \n",
    "  - Dropped `propertyzoningdesc` due to extreme cardinality (1,800+ unique codes).  \n",
    "\n",
    "- Total number of columns after encoding: **~216** (from ~30 original + engineered features).  "
   ]
  },
  {
   "cell_type": "markdown",
   "id": "8515bf01",
   "metadata": {},
   "source": [
    "### **4. Train/Test Split - Baseline vs Enhanced Features**"
   ]
  },
  {
   "cell_type": "markdown",
   "id": "dbd4b5fa",
   "metadata": {},
   "source": [
    "##### Baseline vs Enhanced Feature Sets"
   ]
  },
  {
   "cell_type": "code",
   "execution_count": 18,
   "id": "a4dee7e9",
   "metadata": {},
   "outputs": [],
   "source": [
    "# 1. Define the target variable\n",
    "TARGET = \"taxvaluedollarcnt\"\n",
    "\n",
    "# 2. Define baseline features \n",
    "baseline_features = [\n",
    "    \"calculatedfinishedsquarefeet\",  # total living area\n",
    "    \"bedroomcnt\",                   # bedrooms\n",
    "    \"bathroomcnt\",                  # bathrooms\n",
    "    \"yearbuilt\"                     # year built\n",
    "]\n",
    "\n",
    "# 3. Define enhanced features\n",
    "# Start with baseline\n",
    "enhanced_features = baseline_features + [\n",
    "\n",
    "    # Engineered domain-driven features\n",
    "    \"price_per_sqft\",\n",
    "    \"age_of_home\",\n",
    "    \"rooms_per_sqft\",\n",
    "    \"bath_per_bed\",\n",
    "    \"garage_sqft_ratio\",\n",
    "\n",
    "    # Fixed/improved features\n",
    "    \"roomcnt_fixed\",\n",
    "    \"multi_unit\",       # from unitcnt\n",
    "    \"has_garage\",       # from garage features\n",
    "]\n",
    "\n",
    "# 4. Add encoded categorical columns automatically\n",
    "encoded_cols = [c for c in df1.columns if any(x in c for x in [\n",
    "    \"county_\", \"zip_\", \"city_\", \"neighborhood_\",\n",
    "    \"propertycountylanduse_top_\", \"propertylandusetype_top_\"\n",
    "])]\n",
    "enhanced_features += encoded_cols"
   ]
  },
  {
   "cell_type": "code",
   "execution_count": 19,
   "id": "db31d1c8",
   "metadata": {},
   "outputs": [
    {
     "name": "stdout",
     "output_type": "stream",
     "text": [
      "Baseline features: 4\n",
      "Enhanced features: 184\n",
      "Baseline train shape: (61378, 4)\n",
      "Enhanced train shape: (61378, 184)\n"
     ]
    }
   ],
   "source": [
    "# 5. Prepare train/test splits\n",
    "Xb = df1[baseline_features].copy()\n",
    "Xe = df1[enhanced_features].copy()\n",
    "y  = df1[TARGET].copy()\n",
    "\n",
    "Xb_train, Xb_test, y_train, y_test = train_test_split(Xb, y, test_size=0.2, random_state=42)\n",
    "Xe_train, Xe_test, _, _            = train_test_split(Xe, y, test_size=0.2, random_state=42)\n",
    "\n",
    "print(\"Baseline features:\", len(baseline_features))\n",
    "print(\"Enhanced features:\", len(enhanced_features))\n",
    "print(\"Baseline train shape:\", Xb_train.shape)\n",
    "print(\"Enhanced train shape:\", Xe_train.shape)"
   ]
  },
  {
   "cell_type": "markdown",
   "id": "dea27e84",
   "metadata": {},
   "source": [
    "##### Linear Regression: Baseline vs Enhanced (R², MAE, RMSE)"
   ]
  },
  {
   "cell_type": "code",
   "execution_count": 20,
   "id": "d79b251e",
   "metadata": {},
   "outputs": [
    {
     "data": {
      "text/html": [
       "<div>\n",
       "<style scoped>\n",
       "    .dataframe tbody tr th:only-of-type {\n",
       "        vertical-align: middle;\n",
       "    }\n",
       "\n",
       "    .dataframe tbody tr th {\n",
       "        vertical-align: top;\n",
       "    }\n",
       "\n",
       "    .dataframe thead th {\n",
       "        text-align: right;\n",
       "    }\n",
       "</style>\n",
       "<table border=\"1\" class=\"dataframe\">\n",
       "  <thead>\n",
       "    <tr style=\"text-align: right;\">\n",
       "      <th></th>\n",
       "      <th>R2</th>\n",
       "      <th>MAE</th>\n",
       "      <th>RMSE</th>\n",
       "    </tr>\n",
       "  </thead>\n",
       "  <tbody>\n",
       "    <tr>\n",
       "      <th>Baseline</th>\n",
       "      <td>0.361896</td>\n",
       "      <td>254184.657511</td>\n",
       "      <td>612500.211986</td>\n",
       "    </tr>\n",
       "    <tr>\n",
       "      <th>Enhanced</th>\n",
       "      <td>0.695992</td>\n",
       "      <td>118277.006420</td>\n",
       "      <td>422769.222734</td>\n",
       "    </tr>\n",
       "  </tbody>\n",
       "</table>\n",
       "</div>"
      ],
      "text/plain": [
       "                R2            MAE           RMSE\n",
       "Baseline  0.361896  254184.657511  612500.211986\n",
       "Enhanced  0.695992  118277.006420  422769.222734"
      ]
     },
     "execution_count": 20,
     "metadata": {},
     "output_type": "execute_result"
    }
   ],
   "source": [
    "def evaluate(y_true, y_pred):\n",
    "    return {\n",
    "        \"R2\": r2_score(y_true, y_pred),\n",
    "        \"MAE\": mean_absolute_error(y_true, y_pred),\n",
    "        \"RMSE\": np.sqrt(mean_squared_error(y_true, y_pred))\n",
    "    }\n",
    "\n",
    "# Fit baseline\n",
    "lin_base = LinearRegression().fit(Xb_train, y_train)\n",
    "pred_base = lin_base.predict(Xb_test)\n",
    "metrics_base = evaluate(y_test, pred_base)\n",
    "\n",
    "# Fit enhanced\n",
    "lin_enh = LinearRegression().fit(Xe_train, y_train)\n",
    "pred_enh = lin_enh.predict(Xe_test)\n",
    "metrics_enh = evaluate(y_test, pred_enh)\n",
    "\n",
    "# Show side-by-side\n",
    "pd.DataFrame([metrics_base, metrics_enh], index=[\"Baseline\",\"Enhanced\"])"
   ]
  },
  {
   "cell_type": "markdown",
   "id": "feaecbc5",
   "metadata": {},
   "source": [
    "##### Bar charts for R², MAE, RMSE"
   ]
  },
  {
   "cell_type": "code",
   "execution_count": 30,
   "id": "267a4fd4",
   "metadata": {},
   "outputs": [
    {
     "data": {
      "image/png": "[encoded data removed]",
      "text/plain": [
       "<Figure size 640x480 with 1 Axes>"
      ]
     },
     "metadata": {},
     "output_type": "display_data"
    },
    {
     "data": {
      "image/png": "[encoded data removed]",
      "text/plain": [
       "<Figure size 640x480 with 1 Axes>"
      ]
     },
     "metadata": {},
     "output_type": "display_data"
    },
    {
     "data": {
      "image/png": "[encoded data removed]",
      "text/plain": [
       "<Figure size 640x480 with 1 Axes>"
      ]
     },
     "metadata": {},
     "output_type": "display_data"
    }
   ],
   "source": [
    "# Bar chart for R²\n",
    "plt.figure()\n",
    "plt.bar([\"Baseline\",\"Enhanced\"], [metrics_base[\"R2\"], metrics_enh[\"R2\"]])\n",
    "plt.title(\"Baseline vs Enhanced Model - R²\")\n",
    "plt.ylabel(\"R²\")\n",
    "plt.savefig(\"../reports/figures/baseline_vs_enhanced_r2.png\", dpi=300, bbox_inches=\"tight\")\n",
    "plt.show()\n",
    "plt.close()\n",
    "\n",
    "# Bar chart for MAE\n",
    "plt.figure()\n",
    "plt.bar([\"Baseline\",\"Enhanced\"], [metrics_base[\"MAE\"], metrics_enh[\"MAE\"]])\n",
    "plt.title(\"Baseline vs Enhanced Model - MAE\")\n",
    "plt.ylabel(\"MAE\")\n",
    "plt.savefig(\"../reports/figures/baseline_vs_enhanced_mae.png\", dpi=300, bbox_inches=\"tight\")\n",
    "plt.show()\n",
    "plt.close()\n",
    "\n",
    "# Bar chart for RMSE\n",
    "plt.figure()\n",
    "plt.bar([\"Baseline\",\"Enhanced\"], [metrics_base[\"RMSE\"], metrics_enh[\"RMSE\"]])\n",
    "plt.title(\"Baseline vs Enhanced Model - RMSE\")\n",
    "plt.ylabel(\"RMSE\")\n",
    "plt.savefig(\"../reports/figures/baseline_vs_enhanced_rmse.png\", dpi=300, bbox_inches=\"tight\")\n",
    "plt.show()\n",
    "plt.close()\n"
   ]
  },
  {
   "cell_type": "code",
   "execution_count": 35,
   "id": "c70dcba4",
   "metadata": {},
   "outputs": [
    {
     "data": {
      "image/png": "[encoded data removed]",
      "text/plain": [
       "<Figure size 600x600 with 1 Axes>"
      ]
     },
     "metadata": {},
     "output_type": "display_data"
    }
   ],
   "source": [
    "plt.figure(figsize=(6,6))\n",
    "plt.scatter(y_test, pred_enh, alpha=0.4, label=\"Actual\")\n",
    "m = [y_test.min(), y_test.max()]\n",
    "plt.plot(m, m, '--', color=\"red\", label=\"Predicted\")\n",
    "plt.xlabel(\"Actual Tax Value\")\n",
    "plt.ylabel(\"Predicted Tax Value\")\n",
    "plt.title(\"Actual vs Predicted - Enhanced Linear Regression\")\n",
    "plt.legend()\n",
    "plt.savefig(\"../reports/figures/actual_vs_pred_enhanced.png\", dpi=300, bbox_inches=\"tight\")\n",
    "plt.show()\n",
    "plt.close()\n"
   ]
  },
  {
   "cell_type": "markdown",
   "id": "c2e4892d",
   "metadata": {},
   "source": [
    "Business Insights:\n",
    "\n",
    "- **Accuracy doubled:** Enhanced model explains ~70% of price variation vs ~36% for the simple baseline.  \n",
    "- **Reduced errors:** Average pricing errors cut in half (MAE ~$118K vs ~$254K).  \n",
    "- **Location & features matter:** Encoding location and adding domain-driven ratios significantly improved valuations.  \n",
    "- **Practical impact:** Realtors can price homes more competitively, investors can better identify undervalued areas, \n",
    "  and buyers gain more transparent valuations.  \n",
    "- **Limitations:** Luxury properties are still underpredicted, suggesting separate modeling strategies for high-end markets. We can test **log-transformed targets** to reduce skew and improve robustness against outliers.\n"
   ]
  },
  {
   "cell_type": "markdown",
   "id": "3661f9c8",
   "metadata": {},
   "source": [
    "##### Residuals"
   ]
  },
  {
   "cell_type": "code",
   "execution_count": 28,
   "id": "227c6be9",
   "metadata": {},
   "outputs": [
    {
     "data": {
      "image/png": "[encoded data removed]",
      "text/plain": [
       "<Figure size 800x500 with 1 Axes>"
      ]
     },
     "metadata": {},
     "output_type": "display_data"
    },
    {
     "data": {
      "image/png": "[encoded data removed]",
      "text/plain": [
       "<Figure size 800x500 with 1 Axes>"
      ]
     },
     "metadata": {},
     "output_type": "display_data"
    }
   ],
   "source": [
    "# Residuals\n",
    "residuals = y_test - pred_enh\n",
    "\n",
    "# Histogram\n",
    "plt.figure(figsize=(8,5))\n",
    "plt.hist(residuals, bins=50, color=\"steelblue\", edgecolor=\"black\")\n",
    "plt.axvline(0, color=\"red\", linestyle=\"--\")\n",
    "plt.title(\"Residual Distribution — Enhanced Linear Regression\")\n",
    "plt.xlabel(\"Prediction Error (Actual - Predicted)\")\n",
    "plt.ylabel(\"Count\")\n",
    "plt.savefig(\"../reports/figures/residual_histogram.png\", dpi=300, bbox_inches=\"tight\")\n",
    "plt.show()\n",
    "plt.close()\n",
    "\n",
    "# Residuals vs Actual\n",
    "plt.figure(figsize=(8,5))\n",
    "plt.scatter(y_test, residuals, alpha=0.4)\n",
    "plt.axhline(0, color=\"red\", linestyle=\"--\")\n",
    "plt.title(\"Residuals vs Actual Tax Value\")\n",
    "plt.xlabel(\"Actual Tax Value\")\n",
    "plt.ylabel(\"Residual (Error)\")\n",
    "plt.savefig(\"../reports/figures/residuals_vs_actual.png\", dpi=300, bbox_inches=\"tight\")\n",
    "plt.show()\n",
    "plt.close()\n"
   ]
  },
  {
   "cell_type": "markdown",
   "id": "282443b2",
   "metadata": {},
   "source": [
    "**Residual Analysis — Enhanced Linear Regression**\n",
    "\n",
    "- **Residual Histogram:** Most errors are close to zero, but a long right tail shows the model occasionally underpredicts by millions of dollars. This explains why RMSE is much higher than MAE.\n",
    "- **Residuals vs Actual Tax Value:** The model performs well for typical homes but systematically underpredicts high-value properties. Residuals grow with actual tax value, indicating model bias in the luxury segment.\n",
    "\n",
    "**Business Insight:**  \n",
    "The model is reliable for mass-market properties but not for luxury homes. \n",
    "Investors and realtors should use the model cautiously when pricing premium properties \n",
    "and may need luxury-specific features or a separate model for that segment.\n"
   ]
  },
  {
   "cell_type": "markdown",
   "id": "0a0fdd20",
   "metadata": {},
   "source": [
    "### **5. Save Cleaned Data**"
   ]
  },
  {
   "cell_type": "code",
   "execution_count": 39,
   "id": "d065aa67",
   "metadata": {},
   "outputs": [],
   "source": [
    "metrics_df = pd.DataFrame([metrics_base, metrics_enh], index=[\"Baseline\",\"Enhanced\"])\n",
    "metrics_df.to_csv(\"../reports/metrics/linear_metrics_baseline_vs_enhanced.csv\", index=True)\n"
   ]
  },
  {
   "cell_type": "code",
   "execution_count": 42,
   "id": "8246d67b",
   "metadata": {},
   "outputs": [],
   "source": [
    "cleaned_path = \"../data/processed/zillow_cleaned_feature_engineered_encoded.csv\"\n",
    "df1.to_csv(cleaned_path, index=False)"
   ]
  },
  {
   "cell_type": "markdown",
   "id": "33548531",
   "metadata": {},
   "source": [
    "### **6. Key Insights**"
   ]
  },
  {
   "cell_type": "markdown",
   "id": "ba12bf59",
   "metadata": {},
   "source": [
    "\n",
    "   - Repaired `roomcnt` by creating **`roomcnt_fixed`** (fallback = bedrooms + bathrooms + 1).\n",
    "   - Resolved garage inconsistency: if `garagecarcnt > 0` but `garagetotalsqft = 0`, treated as missing and imputed by median **within the same car-count**.\n",
    "   - Added binary flags: **`has_garage`**\n",
    "   \n",
    "**Domain-driven features**\n",
    "   - `price_per_sqft = taxvaluedollarcnt / sqft`\n",
    "   - `age_of_home = 2025 - yearbuilt`\n",
    "   - `rooms_per_sqft = roomcnt_fixed / sqft`\n",
    "   - `bath_per_bed = bathrooms / (bedrooms + ε)`\n",
    "   - `garage_sqft_ratio = garagetotalsqft / sqft`\n",
    "\n",
    "**Encoding categorical variables**\n",
    "   - Low-cardinality (AC type, heating type, FIPS, county) → **one-hot**.\n",
    "   - High-cardinality (ZIP, city, neighborhood) → **Top-K one-hot** (Top-50 each; rest “other”).\n",
    "   - Land-use codes → **Top-K** (Top-15 county land use; Top-5 land use type; rest “other”).\n",
    "   - Dropped `propertyzoningdesc` due to extreme cardinality/noise.\n",
    "\n",
    "**Feature sets & split**\n",
    "   - **Baseline features (4):** sqft, bedrooms, bathrooms, yearbuilt.\n",
    "   - **Enhanced features (~184):** baseline + engineered + encoded dummies.\n",
    "   - Single, shared **train/test split** for fair comparison (80/20).\n",
    "\n",
    "**Baseline vs Enhanced — Linear Regression (raw target)**\n",
    "   - **Baseline:** R² ≈ 0.36, MAE ≈ \\$254K, RMSE ≈ \\$613K.\n",
    "   - **Enhanced:** R² ≈ 0.70, MAE ≈ \\$118K, RMSE ≈ \\$423K.\n",
    "\n",
    "##### Interpretation & Business Insights\n",
    "- **Accuracy meaningfully improved:** Engineered features + location encodings nearly doubled explained variance and **cut average error ~50%**. This enables **more competitive pricing** and better screening of deals.\n",
    "- **Location & structure matter:** ZIP/city/neighborhood and ratios (e.g., price/ft², garage ratio) add substantial signal beyond raw sqft/beds/baths.\n",
    "- **Risk still at the high end:** Residual plots show **large underpredictions for luxury homes** (few multi-million-dollar outliers inflate RMSE). Use expert review or a specialized model for that segment.\n",
    "\n"
   ]
  }
 ],
 "metadata": {
  "kernelspec": {
   "display_name": ".venv",
   "language": "python",
   "name": "python3"
  },
  "language_info": {
   "codemirror_mode": {
    "name": "ipython",
    "version": 3
   },
   "file_extension": ".py",
   "mimetype": "text/x-python",
   "name": "python",
   "nbconvert_exporter": "python",
   "pygments_lexer": "ipython3",
   "version": "3.13.5"
  }
 },
 "nbformat": 4,
 "nbformat_minor": 5
}
